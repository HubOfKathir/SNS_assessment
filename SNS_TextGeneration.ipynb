{
  "nbformat": 4,
  "nbformat_minor": 0,
  "metadata": {
    "colab": {
      "provenance": []
    },
    "kernelspec": {
      "name": "python3",
      "display_name": "Python 3"
    },
    "language_info": {
      "name": "python"
    }
  },
  "cells": [
    {
      "cell_type": "code",
      "source": [
        "import spacy\n",
        "\n",
        "# Load the spaCy model (this will download it if not already installed)\n",
        "nlp = spacy.load('en_core_web_sm')\n",
        "\n",
        "def preprocess_text_spacy(text):\n",
        "    # Convert text to lowercase\n",
        "    text = text.lower()\n",
        "\n",
        "    # Process the text using spaCy\n",
        "    doc = nlp(text)\n",
        "\n",
        "    # Tokenize and remove stop words and punctuation\n",
        "    tokens = [token.lemma_ for token in doc if not token.is_stop and not token.is_punct]\n",
        "\n",
        "    return tokens\n",
        "\n",
        "# Example usage\n",
        "text = \"The quick brown fox, named Mr. Fox, jumped over the lazy dog!\"\n",
        "tokens = preprocess_text_spacy(text)\n",
        "print(tokens)\n"
      ],
      "metadata": {
        "colab": {
          "base_uri": "https://localhost:8080/"
        },
        "id": "xsv_NnQ59O9K",
        "outputId": "98f46dcd-2c09-4c60-d628-3f554d6372f8"
      },
      "execution_count": null,
      "outputs": [
        {
          "output_type": "stream",
          "name": "stdout",
          "text": [
            "['quick', 'brown', 'fox', 'name', 'mr', 'fox', 'jump', 'lazy', 'dog']\n"
          ]
        }
      ]
    }
  ]
}