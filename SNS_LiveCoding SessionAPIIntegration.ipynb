{
  "nbformat": 4,
  "nbformat_minor": 0,
  "metadata": {
    "colab": {
      "provenance": []
    },
    "kernelspec": {
      "name": "python3",
      "display_name": "Python 3"
    },
    "language_info": {
      "name": "python"
    }
  },
  "cells": [
    {
      "cell_type": "markdown",
      "source": [
        "Due to ratelimit  in openAi_api I can't achieve the output."
      ],
      "metadata": {
        "id": "GtqmpygfWBCZ"
      }
    },
    {
      "cell_type": "code",
      "source": [
        "import requests"
      ],
      "metadata": {
        "id": "8kthLxcKfqUC"
      },
      "execution_count": null,
      "outputs": []
    },
    {
      "cell_type": "code",
      "source": [
        "# Function to make an API call and fetch data\n",
        "def fetch_data_from_api(api_url, user_input):\n",
        "    try:\n",
        "        # Sending a GET request to the API with user input as a query parameter\n",
        "        response = requests.get(api_url, params={'query': user_input})\n",
        "\n",
        "        # Check if the request was successful (status code 200)\n",
        "        response.raise_for_status()\n",
        "\n",
        "        # Parse JSON data\n",
        "        data = response.json()\n",
        "        if data:\n",
        "            print(\"Data fetched successfully!\")\n",
        "            # Display data in a user-friendly format\n",
        "            display_data(data)\n",
        "        else:\n",
        "            print(\"No data found for the given input.\")\n",
        "\n",
        "    except requests.exceptions.HTTPError as http_err:\n",
        "        print(f\"HTTP error occurred: {http_err}\")\n",
        "    except requests.exceptions.ConnectionError as conn_err:\n",
        "        print(f\"Connection error occurred: {conn_err}\")\n",
        "    except requests.exceptions.Timeout as timeout_err:\n",
        "        print(f\"Timeout error occurred: {timeout_err}\")\n",
        "    except requests.exceptions.RequestException as req_err:\n",
        "        print(f\"An error occurred: {req_err}\")\n",
        "\n",
        "# Function to display data in a user-friendly format\n",
        "def display_data(data):\n",
        "    # Example of pretty printing the fetched data\n",
        "    # This can be customized based on API structure\n",
        "    for item in data:\n",
        "        print(f\"Name: {item.get('name')}\")\n",
        "        print(f\"Description: {item.get('description')}\")\n",
        "        print(f\"URL: {item.get('url')}\")\n",
        "        print(\"-\" * 50)"
      ],
      "metadata": {
        "id": "w3cwxZi1f0vg"
      },
      "execution_count": 10,
      "outputs": []
    },
    {
      "cell_type": "code",
      "source": [
        "# Main execution\n",
        "if __name__ == \"__main__\":\n",
        "    api_url = \"https://api.example.com/data\"  # Replace with actual API URL\n",
        "    user_input = input(\"Enter your query: \")\n",
        "\n",
        "    # Fetch and display data from the API based on user input\n",
        "    fetch_data_from_api(api_url, user_input)"
      ],
      "metadata": {
        "colab": {
          "base_uri": "https://localhost:8080/"
        },
        "id": "ElxFeAlhf5U7",
        "outputId": "43b94c10-fa4b-48bc-f92d-08f5d434e4e4"
      },
      "execution_count": 11,
      "outputs": [
        {
          "output_type": "stream",
          "name": "stdout",
          "text": [
            "Enter your query: London\n",
            "Connection error occurred: HTTPSConnectionPool(host='api.example.com', port=443): Max retries exceeded with url: /data?query=London (Caused by NameResolutionError(\"<urllib3.connection.HTTPSConnection object at 0x7ad0971d7790>: Failed to resolve 'api.example.com' ([Errno -2] Name or service not known)\"))\n"
          ]
        }
      ]
    }
  ]
}